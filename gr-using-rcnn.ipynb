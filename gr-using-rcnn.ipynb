{
 "cells": [
  {
   "cell_type": "markdown",
   "metadata": {
    "tags": []
   },
   "source": [
    "# Gesture Recognition\n",
    "In this group project, you are going to build a 3D Conv model that will be able to predict the 5 gestures correctly. Please import the following libraries to get started."
   ]
  },
  {
   "cell_type": "code",
   "execution_count": 1,
   "metadata": {
    "tags": []
   },
   "outputs": [],
   "source": [
    "import numpy as np\n",
    "import os\n",
    "import datetime\n",
    "import os\n",
    "import cv2\n",
    "import glob \n",
    "import random\n",
    "import matplotlib.pyplot as plt\n",
    "from cv2 import imread, resize\n",
    "\n",
    "import warnings\n",
    "warnings.filterwarnings(\"ignore\")"
   ]
  },
  {
   "cell_type": "markdown",
   "metadata": {},
   "source": [
    "We set the random seed so that the results don't vary drastically."
   ]
  },
  {
   "cell_type": "code",
   "execution_count": 2,
   "metadata": {
    "tags": []
   },
   "outputs": [],
   "source": [
    "from tensorflow import keras\n",
    "from tensorflow.keras import layers, models\n",
    "from keras.models import Sequential, Model\n",
    "from keras.layers import Dense, GRU, Flatten, TimeDistributed, Flatten, BatchNormalization, Activation\n",
    "from keras.layers.convolutional import Conv3D, MaxPooling3D\n",
    "from keras.callbacks import ModelCheckpoint, ReduceLROnPlateau\n",
    "from keras.applications.vgg16 import VGG16\n",
    "from keras import optimizers"
   ]
  },
  {
   "cell_type": "code",
   "execution_count": 3,
   "metadata": {
    "tags": []
   },
   "outputs": [],
   "source": [
    "np.random.seed(30)\n",
    "import random as rn\n",
    "rn.seed(30)\n",
    "from keras import backend as K\n",
    "import tensorflow as tf\n",
    "tf.random.set_seed(30)"
   ]
  },
  {
   "cell_type": "markdown",
   "metadata": {},
   "source": [
    "In this block, you read the folder names for training and validation. You also set the `batch_size` here. Note that you set the batch size in such a way that you are able to use the GPU in full capacity. You keep increasing the batch size until the machine throws an error."
   ]
  },
  {
   "cell_type": "code",
   "execution_count": 4,
   "metadata": {
    "tags": []
   },
   "outputs": [],
   "source": [
    "train_doc = np.random.permutation(open(r'C:\\Users\\daparekh\\Desktop\\Gesture Recognition\\Project_data\\train.csv').readlines())\n",
    "val_doc = np.random.permutation(open(r'C:\\Users\\daparekh\\Desktop\\Gesture Recognition\\Project_data\\val.csv').readlines())"
   ]
  },
  {
   "cell_type": "code",
   "execution_count": 5,
   "metadata": {
    "tags": []
   },
   "outputs": [],
   "source": [
    "train_path = r'C:\\Users\\daparekh\\Desktop\\Gesture Recognition\\Project_data\\train'\n",
    "val_path = r'C:\\Users\\daparekh\\Desktop\\Gesture Recognition\\Project_data\\val'"
   ]
  },
  {
   "cell_type": "markdown",
   "metadata": {},
   "source": [
    "## Generator\n",
    "This is one of the most important part of the code. The overall structure of the generator has been given. In the generator, you are going to preprocess the images as you have images of 2 different dimensions as well as create a batch of video frames. You have to experiment with `img_idx`, `y`,`z` and normalization such that you get high accuracy."
   ]
  },
  {
   "cell_type": "code",
   "execution_count": 6,
   "metadata": {
    "tags": []
   },
   "outputs": [],
   "source": [
    "batch_size = 10\n",
    "\n",
    "imgIdxList = list(range(0,30))\n",
    "imgIdxLen = len(imgIdxList)\n",
    "width = 224\n",
    "height = 224\n",
    "numChannels = 3\n",
    "\n",
    "n_output          =  5 # number of classes in case of classification, 1 in case of regression\n",
    "output_activation =  \"softmax\"# \"softmax\" or \"sigmoid\" in case of classification, \"linear\" in case of regression"
   ]
  },
  {
   "cell_type": "code",
   "execution_count": 7,
   "metadata": {},
   "outputs": [],
   "source": [
    "def build_feature_extractor():\n",
    "    feature_extractor = keras.applications.InceptionV3(\n",
    "        weights=\"imagenet\",\n",
    "        include_top=False,\n",
    "        pooling=\"avg\",\n",
    "        input_shape=(width, height, numChannels),\n",
    "    )\n",
    "    preprocess_input = keras.applications.inception_v3.preprocess_input\n",
    "\n",
    "    inputs = keras.Input((width, height, numChannels))\n",
    "    preprocessed = preprocess_input(inputs)\n",
    "\n",
    "    outputs = feature_extractor(preprocessed)\n",
    "    return keras.Model(inputs, outputs, name=\"feature_extractor\")\n",
    "\n",
    "\n",
    "feature_extractor = build_feature_extractor()"
   ]
  },
  {
   "cell_type": "code",
   "execution_count": 8,
   "metadata": {},
   "outputs": [],
   "source": [
    "class Generator(keras.utils.Sequence):\n",
    "    width = None \n",
    "    height = None \n",
    "    numChannels = 3\n",
    "    \n",
    "    source_path = None\n",
    "    vectorList = None\n",
    "    batch_size = None\n",
    "    frameIdxList = None\n",
    "    numFramesInVideo = None\n",
    "    numVideso = None\n",
    "    def __init__(self,\n",
    "                 folder_list,\n",
    "                 imgIdxList,\n",
    "                 width=224,\n",
    "                 height=224,\n",
    "                 source_path=r\"D:\\DDownloads\\UpGrad\\NeuralNetwork\\CaseStudy\\Project_data\\train\",\n",
    "                 batch_size=75):\n",
    "        self.vectorList = np.random.permutation(folder_list) # Shuffle the data and store in a list\n",
    "        #print(self.vectorList)\n",
    "        self.frameIdxList = imgIdxList\n",
    "        self.numFramesInVideo = len(imgIdxList)\n",
    "        self.numVideos = len(folder_list)\n",
    "        self.source_path = source_path\n",
    "        self.batch_size = batch_size\n",
    "        self.width = width\n",
    "        self.height = height\n",
    "        self.numOfBatches = self.numVideos // self.batch_size\n",
    "        \n",
    "    # Loop through current batch size --> get one folder at a time -->\n",
    "    # loop through each image in a folder --> preprocess --> One hot encode the label --> yield\n",
    "    def __getBatchData(self, batch, curr_batch_size):\n",
    "        batch_data = np.zeros((batch_size, self.numFramesInVideo, 2048)) \n",
    "        # batch_labels is the one hot representation of the output\n",
    "        batch_labels = np.zeros((batch_size, self.numFramesInVideo, 5))\n",
    "        for folderIdx in range(curr_batch_size):\n",
    "             # Get vector/folder name\n",
    "            ## Turn this on for debugging\n",
    "            #print(folderIdx + (batch*batch_size))\n",
    "            vectorName = self.vectorList[folderIdx + (batch*self.batch_size)].strip().split(';')[0]\n",
    "            #print(vectorName)\n",
    "            imgs = os.listdir(self.source_path+'/'+ vectorName)\n",
    "            # Iterate iver the frames/images of a folder to read them in\n",
    "            temp_batch_data = np.zeros((self.numFramesInVideo, self.width, self.height,self.numChannels)) \n",
    "            # batch_labels is the one hot representation of the output\n",
    "            temp_batch_labels = np.zeros((self.numFramesInVideo, 5))\n",
    "            \n",
    "            for idx,item in enumerate(self.frameIdxList):\n",
    "                # Get the image in float32 \n",
    "                image = imread(self.source_path+'/'+ vectorName +'/'+imgs[item]).astype(np.float32)\n",
    "                # Resize\n",
    "                resized_img = resize(image, (self.width, self.height), interpolation = cv2.INTER_AREA)\n",
    "                # Normalize\n",
    "                resized_img = resized_img / 255.0\n",
    "                #crop the images ## TO DO, we are resizing for now\n",
    "                npimg = np.reshape(resized_img,[1,self.width, self.height,self.numChannels])\n",
    "                temp_batch_data[idx,:,:,:] = npimg\n",
    "                \n",
    "                temp_batch_labels[idx ,int(self.vectorList[folderIdx + (batch*batch_size)].strip().split(';')[2])] = 1\n",
    "                \n",
    "            batch_data[folderIdx,:,:] = feature_extractor.predict(temp_batch_data)\n",
    "            batch_labels[folderIdx,:,:] = temp_batch_labels\n",
    "            # One hot encoding\n",
    "            \n",
    "        return batch_data, batch_labels    \n",
    "        \n",
    "        \n",
    "    # Public method, call this to get generator object\n",
    "    def generator(self):\n",
    "        while True:\n",
    "            for batch in range(self.numOfBatches):\n",
    "                batch_data, batch_labels = self.__getBatchData(batch, self.batch_size)\n",
    "                yield batch_data, batch_labels\n",
    "            # For the remaining data points which are left after full batches\n",
    "            batch += 1\n",
    "            rem_batch_size = self.numVideos % self.batch_size\n",
    "            batch_data, batch_labels = self.__getBatchData(batch, rem_batch_size)\n",
    "            yield batch_data, batch_labels "
   ]
  },
  {
   "cell_type": "code",
   "execution_count": 9,
   "metadata": {
    "tags": []
   },
   "outputs": [],
   "source": [
    "train_gen_obj = Generator(folder_list=train_doc,\n",
    "                          imgIdxList=imgIdxList,  \n",
    "                          source_path=train_path, \n",
    "                          batch_size=batch_size)\n",
    "train_generator1 = train_gen_obj.generator()"
   ]
  },
  {
   "cell_type": "code",
   "execution_count": 10,
   "metadata": {},
   "outputs": [],
   "source": [
    "#batch_data, batch_labels = next(train_generator)\n",
    "#batch_data.shape , batch_labels.shape #((30, 30, 2048), (30, 30, 5))"
   ]
  },
  {
   "cell_type": "code",
   "execution_count": 11,
   "metadata": {},
   "outputs": [],
   "source": [
    "val_gen_obj = Generator(folder_list=val_doc,\n",
    "                          imgIdxList=imgIdxList,  \n",
    "                          source_path=val_path, \n",
    "                          batch_size=batch_size)\n",
    "validation_generator1 = val_gen_obj.generator()"
   ]
  },
  {
   "cell_type": "code",
   "execution_count": 23,
   "metadata": {},
   "outputs": [],
   "source": [
    "class DataGenerator(keras.utils.Sequence):\n",
    "    'Generates data for Keras'\n",
    "    def __init__(self,folder_list,source_path,batch_size = 30,dim = (224,224,3),n_classes = 5):\n",
    "        self.vectorList = np.random.permutation(folder_list) # Shuffle the data and store in a list\n",
    "        self.frameIdxList = list(range(0,30))\n",
    "        self.numFramesInVideo = len(self.frameIdxList)\n",
    "        self.numVideos = len(folder_list)\n",
    "        self.source_path = source_path\n",
    "        self.batch_size = batch_size\n",
    "        self.width = dim[0]\n",
    "        self.height = dim[1]\n",
    "        self.n_channels = dim[2]\n",
    "        self.dim = dim\n",
    "        self.n_classes = n_classes \n",
    "        self.numOfBatches = self.numVideos // self.batch_size\n",
    "        \n",
    "    def __len__(self):\n",
    "        'Denotes the number of batches per epoch'\n",
    "        if (self.numVideos%batch_size) == 0:\n",
    "            steps_per_epoch = int(self.numVideos/self.batch_size)\n",
    "        else:\n",
    "            steps_per_epoch = (self.numVideos//self.batch_size) + 1\n",
    "        return steps_per_epoch\n",
    "\n",
    "    def __getitem__(self, index):\n",
    "        'Generate one batch of data'\n",
    "        # Generate indexes of the batch\n",
    "        if index <=  self.numVideos // self.batch_size:\n",
    "            batch_data, batch_labels = self.__data_generation(index, self.batch_size)\n",
    "            return batch_data, batch_labels\n",
    "        else:\n",
    "            # For the remaining data points which are left after full batches\n",
    "            rem_batch_size = self.numVideos % self.batch_size\n",
    "            batch_data, batch_labels = self.__data_generation(index, rem_batch_size)\n",
    "            return batch_data, batch_labels \n",
    "\n",
    "    def on_epoch_end(self):\n",
    "        'Updates indexes after each epoch'\n",
    "        pass\n",
    "    def __next__(self):\n",
    "        # get your images and labels\n",
    "        for batch in range(self.__len__()):\n",
    "            return self.__getitem__(batch)\n",
    "\n",
    "    def __data_generation(self, batch, curr_batch_size):\n",
    "        'Generates data containing batch_size samples' # X : (n_samples, *dim, n_channels)\n",
    "        # Initialization\n",
    "        batch_data = np.zeros((batch_size, self.numFramesInVideo, 2048)) \n",
    "        # batch_labels is the one hot representation of the output\n",
    "        batch_labels = np.zeros((batch_size, self.numFramesInVideo, self.n_classes))\n",
    "        for folderIdx in range(curr_batch_size):\n",
    "             # Get vector/folder name\n",
    "            ## Turn this on for debugging\n",
    "            #print(folderIdx + (batch*batch_size))\n",
    "            vectorName = self.vectorList[folderIdx + (batch*self.batch_size)].strip().split(';')[0]\n",
    "            #print(vectorName)\n",
    "            imgs = os.listdir(self.source_path+'/'+ vectorName)\n",
    "            # Iterate iver the frames/images of a folder to read them in\n",
    "            temp_batch_data = np.zeros((self.numFramesInVideo, self.width, self.height,self.n_channels)) \n",
    "            # batch_labels is the one hot representation of the output\n",
    "            temp_batch_labels = np.zeros((self.numFramesInVideo, 5))\n",
    "            \n",
    "            for idx,item in enumerate(self.frameIdxList):\n",
    "                # Get the image in float32 \n",
    "                image = imread(self.source_path+'/'+ vectorName +'/'+imgs[item]).astype(np.float32)\n",
    "                # Resize\n",
    "                resized_img = resize(image, (self.width, self.height), interpolation = cv2.INTER_AREA)\n",
    "                # Normalize\n",
    "                resized_img = resized_img / 255.0\n",
    "                #crop the images ## TO DO, we are resizing for now\n",
    "                npimg = np.reshape(resized_img,[1,self.width, self.height,self.n_channels])\n",
    "                temp_batch_data[idx,:,:,:] = npimg\n",
    "                \n",
    "                temp_batch_labels[idx ,int(self.vectorList[folderIdx + (batch*batch_size)].strip().split(';')[2])] = 1\n",
    "                \n",
    "            batch_data[folderIdx,:,:] = feature_extractor.predict(temp_batch_data)\n",
    "            batch_labels[folderIdx,:,:] = temp_batch_labels\n",
    "            # One hot encoding\n",
    "            \n",
    "        return batch_data, batch_labels \n",
    "    "
   ]
  },
  {
   "cell_type": "code",
   "execution_count": 24,
   "metadata": {},
   "outputs": [],
   "source": [
    "training_generator = DataGenerator(folder_list=val_doc, \n",
    "                                  source_path=val_path, \n",
    "                                  batch_size=batch_size,\n",
    "                                  n_classes = 5)"
   ]
  },
  {
   "cell_type": "code",
   "execution_count": 25,
   "metadata": {},
   "outputs": [],
   "source": [
    "validation_generator = DataGenerator(folder_list=val_doc,\n",
    "                                    source_path=val_path, \n",
    "                                    batch_size=batch_size,\n",
    "                                    n_classes = 5)"
   ]
  },
  {
   "cell_type": "code",
   "execution_count": 26,
   "metadata": {
    "tags": []
   },
   "outputs": [],
   "source": [
    "# Method to create plots of the loss and accuracy on the training and validation sets:\n",
    "def plot_cnn_metrics(history,epochs):\n",
    "    acc = history.history['accuracy']\n",
    "    val_acc = history.history['val_accuracy']\n",
    "\n",
    "    loss = history.history['loss']\n",
    "    val_loss = history.history['val_loss']\n",
    "\n",
    "    epochs_range = range(epochs)\n",
    "\n",
    "    plt.figure(figsize=(8, 8))\n",
    "    plt.subplot(1, 2, 1)\n",
    "    plt.plot(epochs_range, acc, label='Training Accuracy')\n",
    "    plt.plot(epochs_range, val_acc, label='Validation Accuracy')\n",
    "    plt.legend(loc='lower right')\n",
    "    plt.title('Training and Validation Accuracy')\n",
    "\n",
    "    plt.subplot(1, 2, 2)\n",
    "    plt.plot(epochs_range, loss, label='Training Loss')\n",
    "    plt.plot(epochs_range, val_loss, label='Validation Loss')\n",
    "    plt.legend(loc='upper right')\n",
    "    plt.title('Training and Validation Loss')\n",
    "    plt.show()"
   ]
  },
  {
   "cell_type": "markdown",
   "metadata": {},
   "source": [
    "Note here that a video is represented above in the generator as (number of images, height, width, number of channels). Take this into consideration while creating the model architecture."
   ]
  },
  {
   "cell_type": "code",
   "execution_count": 27,
   "metadata": {
    "tags": []
   },
   "outputs": [
    {
     "name": "stdout",
     "output_type": "stream",
     "text": [
      "# training sequences = 663\n",
      "# validation sequences = 100\n"
     ]
    }
   ],
   "source": [
    "curr_dt_time = datetime.datetime.now()\n",
    "num_train_sequences = len(train_doc)\n",
    "print('# training sequences =', num_train_sequences)\n",
    "num_val_sequences = len(val_doc)\n",
    "print('# validation sequences =', num_val_sequences)\n"
   ]
  },
  {
   "cell_type": "markdown",
   "metadata": {},
   "source": [
    "## Model\n",
    "Here you make the model using different functionalities that Keras provides. Remember to use `Conv3D` and `MaxPooling3D` and not `Conv2D` and `Maxpooling2D` for a 3D convolution model. You would want to use `TimeDistributed` while building a Conv2D + RNN model. Also remember that the last layer is the softmax. Design the network in such a way that the model is able to give good accuracy on the least number of parameters so that it can fit in the memory of the webcam."
   ]
  },
  {
   "cell_type": "code",
   "execution_count": 28,
   "metadata": {},
   "outputs": [],
   "source": [
    "def get_sequence_model():\n",
    "    frame_features_input = keras.Input(shape=(30, 2048))\n",
    "    x = keras.layers.GRU(8, return_sequences=True)(frame_features_input)\n",
    "    dense = keras.layers.Dense(5, activation=\"softmax\")\n",
    "    outputs = keras.layers.TimeDistributed(dense)(x)\n",
    "    rnn_model = keras.Model(inputs=frame_features_input, outputs=outputs)\n",
    "    rnn_model.compile(loss=\"categorical_crossentropy\", optimizer=\"adam\", metrics=[\"accuracy\"])\n",
    "    return rnn_model"
   ]
  },
  {
   "cell_type": "code",
   "execution_count": 29,
   "metadata": {},
   "outputs": [],
   "source": [
    "model = get_sequence_model()"
   ]
  },
  {
   "cell_type": "markdown",
   "metadata": {},
   "source": [
    "Now that you have written the model, the next step is to `compile` the model. When you print the `summary` of the model, you'll see the total number of parameters you have to train."
   ]
  },
  {
   "cell_type": "code",
   "execution_count": 30,
   "metadata": {
    "scrolled": true,
    "tags": []
   },
   "outputs": [
    {
     "name": "stdout",
     "output_type": "stream",
     "text": [
      "Model: \"model_1\"\n",
      "_________________________________________________________________\n",
      "Layer (type)                 Output Shape              Param #   \n",
      "=================================================================\n",
      "input_4 (InputLayer)         [(None, 30, 2048)]        0         \n",
      "_________________________________________________________________\n",
      "gru_1 (GRU)                  (None, 30, 8)             49392     \n",
      "_________________________________________________________________\n",
      "time_distributed_1 (TimeDist (None, 30, 5)             45        \n",
      "=================================================================\n",
      "Total params: 49,437\n",
      "Trainable params: 49,437\n",
      "Non-trainable params: 0\n",
      "_________________________________________________________________\n",
      "None\n"
     ]
    }
   ],
   "source": [
    "print(model.summary())"
   ]
  },
  {
   "cell_type": "markdown",
   "metadata": {},
   "source": [
    "Let us create the `train_generator` and the `val_generator` which will be used in `.fit_generator`."
   ]
  },
  {
   "cell_type": "code",
   "execution_count": 31,
   "metadata": {},
   "outputs": [],
   "source": [
    "if (num_train_sequences%batch_size) == 0:\n",
    "    steps_per_epoch = int(num_train_sequences/batch_size)\n",
    "else:\n",
    "    steps_per_epoch = (num_train_sequences//batch_size) + 1\n",
    "\n",
    "if (num_val_sequences%batch_size) == 0:\n",
    "    validation_steps = int(num_val_sequences/batch_size)\n",
    "else:\n",
    "    validation_steps = (num_val_sequences//batch_size) + 1"
   ]
  },
  {
   "cell_type": "markdown",
   "metadata": {},
   "source": [
    "The `steps_per_epoch` and `validation_steps` are used by `fit_generator` to decide the number of next() calls it need to make."
   ]
  },
  {
   "cell_type": "markdown",
   "metadata": {},
   "source": [
    "Let us now fit the model. This will start training the model and with the help of the checkpoints, you'll be able to save the model at the end of each epoch."
   ]
  },
  {
   "cell_type": "code",
   "execution_count": 32,
   "metadata": {
    "tags": []
   },
   "outputs": [
    {
     "name": "stdout",
     "output_type": "stream",
     "text": [
      "Epoch 1/10\n",
      "67/67 [==============================] - 199s 3s/step - loss: 1.3996 - accuracy: 0.4305 - val_loss: 1.2010 - val_accuracy: 0.5763\n",
      "Epoch 2/10\n",
      "67/67 [==============================] - 196s 3s/step - loss: 1.1042 - accuracy: 0.6041 - val_loss: 1.0150 - val_accuracy: 0.6660\n",
      "Epoch 3/10\n",
      "67/67 [==============================] - 200s 3s/step - loss: 0.9507 - accuracy: 0.6899 - val_loss: 0.8676 - val_accuracy: 0.7160\n",
      "Epoch 4/10\n",
      "67/67 [==============================] - 195s 3s/step - loss: 0.8106 - accuracy: 0.7518 - val_loss: 0.7300 - val_accuracy: 0.8047\n",
      "Epoch 5/10\n",
      "67/67 [==============================] - 194s 3s/step - loss: 0.6780 - accuracy: 0.8156 - val_loss: 0.6013 - val_accuracy: 0.8427\n",
      "Epoch 6/10\n",
      "67/67 [==============================] - 196s 3s/step - loss: 0.5899 - accuracy: 0.8500 - val_loss: 0.6022 - val_accuracy: 0.8280\n",
      "Epoch 7/10\n",
      "67/67 [==============================] - 200s 3s/step - loss: 0.5020 - accuracy: 0.8822 - val_loss: 0.4338 - val_accuracy: 0.9363\n",
      "Epoch 8/10\n",
      "67/67 [==============================] - 199s 3s/step - loss: 0.4001 - accuracy: 0.9281 - val_loss: 0.3309 - val_accuracy: 0.9670\n",
      "Epoch 9/10\n",
      "67/67 [==============================] - 196s 3s/step - loss: 0.3112 - accuracy: 0.9609 - val_loss: 0.3086 - val_accuracy: 0.9447\n",
      "Epoch 10/10\n",
      "67/67 [==============================] - 198s 3s/step - loss: 0.2568 - accuracy: 0.9676 - val_loss: 0.2210 - val_accuracy: 0.9747\n"
     ]
    }
   ],
   "source": [
    "num_epochs = 10\n",
    "history = model.fit(training_generator, \n",
    "                    steps_per_epoch = steps_per_epoch,\n",
    "                    epochs=num_epochs, \n",
    "                    verbose=1,\n",
    "                    validation_data=validation_generator,\n",
    "                    validation_steps=validation_steps,\n",
    "                    workers=4, \n",
    "                    use_multiprocessing=False,\n",
    "                    initial_epoch=0)"
   ]
  },
  {
   "cell_type": "code",
   "execution_count": 33,
   "metadata": {
    "tags": []
   },
   "outputs": [
    {
     "data": {
      "image/png": "[encoded data removed]",
      "text/plain": [
       "<Figure size 800x800 with 2 Axes>"
      ]
     },
     "metadata": {},
     "output_type": "display_data"
    }
   ],
   "source": [
    "# Visualizing training results\n",
    "plot_cnn_metrics(history,num_epochs)"
   ]
  },
  {
   "cell_type": "code",
   "execution_count": 35,
   "metadata": {},
   "outputs": [],
   "source": [
    "model_name = 'model_init' + '_' + str(curr_dt_time).replace(' ','').replace(':','_') + '/'\n",
    "    \n",
    "if not os.path.exists(model_name):\n",
    "    os.mkdir(model_name)\n",
    "        \n",
    "filepath = model_name + 'model-10-0.2568-0.9676-0.2210-0.9747.h5'\n",
    "\n",
    "model.save(filepath)"
   ]
  },
  {
   "cell_type": "code",
   "execution_count": null,
   "metadata": {},
   "outputs": [],
   "source": []
  }
 ],
 "metadata": {
  "kernelspec": {
   "display_name": "Python 3 (ipykernel)",
   "language": "python",
   "name": "python3"
  },
  "language_info": {
   "codemirror_mode": {
    "name": "ipython",
    "version": 3
   },
   "file_extension": ".py",
   "mimetype": "text/x-python",
   "name": "python",
   "nbconvert_exporter": "python",
   "pygments_lexer": "ipython3",
   "version": "3.9.15"
  }
 },
 "nbformat": 4,
 "nbformat_minor": 4
}
